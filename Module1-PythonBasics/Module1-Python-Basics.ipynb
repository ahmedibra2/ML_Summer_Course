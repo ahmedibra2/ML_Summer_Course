{
  "cells": [
    {
      "cell_type": "markdown",
      "metadata": {
        "id": "GuzZ3XD-1URs"
      },
      "source": [
        "# Python Main Variable Types\n",
        "Types of variables in python:\n",
        "\n",
        "1) Numeric: integers (example: 8, 100, 60, 0, 74,89, 66, ...)\n",
        "\n",
        "2) Numeric: float (decimals, ex: 1.2, 5.6, 100.100543, ...)\n",
        "\n",
        "3) Text: String (ex: 'This is a string', 'My name is Sun', ...)\n",
        "\n",
        "4) Lists: Numeric list [1 , 2, 3 ,4] <br>\n",
        "Text list ['Name', 'Age', 'City']  \n",
        "\n",
        "and many more..."
      ]
    },
    {
      "cell_type": "markdown",
      "metadata": {},
      "source": [
        "# Basic Python Operations"
      ]
    },
    {
      "cell_type": "code",
      "execution_count": 2,
      "metadata": {
        "colab": {
          "base_uri": "https://localhost:8080/"
        },
        "id": "HoqCtQhZvWDk",
        "outputId": "5cf44b7c-3402-4091-e163-52a7f8b475e5"
      },
      "outputs": [
        {
          "name": "stdout",
          "output_type": "stream",
          "text": [
            "8\n",
            "77\n"
          ]
        }
      ],
      "source": [
        "x = 2 + 2\n",
        "x = 2*x\n",
        "\n",
        "y = 5 + 9*x\n",
        "\n",
        "print(x)\n",
        "print(y)"
      ]
    },
    {
      "cell_type": "code",
      "execution_count": 3,
      "metadata": {
        "colab": {
          "base_uri": "https://localhost:8080/"
        },
        "id": "BNL_XLfIyx40",
        "outputId": "f9ee873a-f97e-4b52-d194-4f02b27f2f45"
      },
      "outputs": [
        {
          "name": "stdout",
          "output_type": "stream",
          "text": [
            "My name is Sun\n"
          ]
        }
      ],
      "source": [
        "name = 'Sun'\n",
        "print('My name is ' + str(name))"
      ]
    },
    {
      "cell_type": "code",
      "execution_count": 4,
      "metadata": {
        "colab": {
          "base_uri": "https://localhost:8080/"
        },
        "id": "0vuzuashyyQo",
        "outputId": "6420bb5f-a231-478d-b6e2-81cff2a70104"
      },
      "outputs": [
        {
          "name": "stdout",
          "output_type": "stream",
          "text": [
            "The value of x is 8\n",
            "The value of x is 8\n"
          ]
        }
      ],
      "source": [
        "print('The value of x is ' + str(x))\n",
        "print(f'The value of x is {x}')"
      ]
    },
    {
      "cell_type": "code",
      "execution_count": 9,
      "metadata": {
        "colab": {
          "base_uri": "https://localhost:8080/"
        },
        "id": "SGjrUoQ42PbL",
        "outputId": "be69e816-4b4e-464d-8c3a-108ca77d7abd"
      },
      "outputs": [
        {
          "name": "stdout",
          "output_type": "stream",
          "text": [
            "3\n",
            "Name: Sun\n",
            "Age: 25\n",
            "City: Dallas\n"
          ]
        }
      ],
      "source": [
        "# This is a Comment, python will ignore it.\n",
        "python_list = ['Sun', 25, 'Dallas']          # ['Name', 'Age', 'City']\n",
        "\n",
        "print(len(python_list))\n",
        "print('Name:' , python_list[0])\n",
        "print('Age:' , python_list[1])\n",
        "print('City:' , python_list[2])"
      ]
    },
    {
      "cell_type": "markdown",
      "metadata": {
        "id": "sbu4SSok3c-h"
      },
      "source": [
        "# Exercise\n",
        "\n",
        "\n",
        "\n",
        "*   Create a python list with some information in it\n",
        "*   Print the length of your list\n",
        "\n"
      ]
    },
    {
      "cell_type": "markdown",
      "metadata": {
        "id": "nbnAUyMU46d8"
      },
      "source": [
        "# For Loops"
      ]
    },
    {
      "cell_type": "code",
      "execution_count": 12,
      "metadata": {
        "colab": {
          "base_uri": "https://localhost:8080/"
        },
        "id": "5eNsqmCc3frI",
        "outputId": "1b586ba8-8cd5-49b1-cdb2-edc039d9e561"
      },
      "outputs": [
        {
          "name": "stdout",
          "output_type": "stream",
          "text": [
            "Sun\n",
            "25\n",
            "Dallas\n"
          ]
        }
      ],
      "source": [
        "# Python starts counting from 0\n",
        "for i in range(0, len(python_list)):\n",
        "  print(python_list[i])"
      ]
    },
    {
      "cell_type": "code",
      "execution_count": 15,
      "metadata": {
        "colab": {
          "base_uri": "https://localhost:8080/"
        },
        "id": "_77bo-a561Xz",
        "outputId": "94ffb9c8-6d65-44f4-f012-9591d0951d4e"
      },
      "outputs": [
        {
          "name": "stdout",
          "output_type": "stream",
          "text": [
            "Index 0 in the list has the number 10\n",
            "Index 1 in the list has the number 99\n",
            "Index 2 in the list has the number 101\n"
          ]
        }
      ],
      "source": [
        "list_numbers = [10 , 99 , 101]\n",
        "\n",
        "for i in range(len(list_numbers)):\n",
        "  print(f'Index {i} in the list has the number {list_numbers[i]}')"
      ]
    },
    {
      "cell_type": "markdown",
      "metadata": {
        "id": "S56cFnbC6hzH"
      },
      "source": [
        "# Numpy"
      ]
    },
    {
      "cell_type": "code",
      "execution_count": 16,
      "metadata": {
        "id": "L5TB0jYZ7FRl"
      },
      "outputs": [],
      "source": [
        "import numpy as np"
      ]
    },
    {
      "cell_type": "code",
      "execution_count": 20,
      "metadata": {
        "colab": {
          "base_uri": "https://localhost:8080/"
        },
        "id": "hfj2Wciv-etp",
        "outputId": "455c2d5e-ccc5-4da4-a3e0-4ed2530c5325"
      },
      "outputs": [
        {
          "name": "stdout",
          "output_type": "stream",
          "text": [
            "[ 3 40 99]\n"
          ]
        }
      ],
      "source": [
        "x = np.array([3 , 40 , 99]) # This is a numpy array with one dimension (like a vector)\n",
        "print(x)"
      ]
    },
    {
      "cell_type": "code",
      "execution_count": 19,
      "metadata": {
        "colab": {
          "base_uri": "https://localhost:8080/"
        },
        "id": "YZfkycqH_T1Y",
        "outputId": "afc015f1-a93c-4609-f508-a8f78ab3ae02"
      },
      "outputs": [
        {
          "name": "stdout",
          "output_type": "stream",
          "text": [
            "3\n",
            "(3,)\n"
          ]
        }
      ],
      "source": [
        "# print the array length; use len() for length\n",
        "print(len(x))\n",
        "# print the array shape\n",
        "print(x.shape)"
      ]
    },
    {
      "cell_type": "code",
      "execution_count": 27,
      "metadata": {
        "id": "LJCX1eFA_cfK"
      },
      "outputs": [],
      "source": [
        "# This is a numpy array with two dimensions (like a matrix)\n",
        "A = np.array([ [2 , 3, 4], \n",
        "               [5, 6 , 7],\n",
        "               [8, 9 , 10],\n",
        "               [11, 12, 13]])"
      ]
    },
    {
      "cell_type": "code",
      "execution_count": 29,
      "metadata": {
        "colab": {
          "base_uri": "https://localhost:8080/"
        },
        "id": "z8T-cup1AxwF",
        "outputId": "9ef65493-8ee2-418b-8f21-56a2fab9c630"
      },
      "outputs": [
        {
          "name": "stdout",
          "output_type": "stream",
          "text": [
            "The shape of matrix A is (4, 3)\n"
          ]
        }
      ],
      "source": [
        "print(f'The shape of matrix A is {A.shape}')"
      ]
    },
    {
      "cell_type": "code",
      "execution_count": 30,
      "metadata": {
        "id": "MnXFRSVuA1vf"
      },
      "outputs": [],
      "source": [
        "B = np.array([ [11 , 12, 13],\n",
        "               [5, 5 , 9],\n",
        "               [8, 9 , 10],\n",
        "               [2, 8, 13] ])"
      ]
    },
    {
      "cell_type": "code",
      "execution_count": 31,
      "metadata": {
        "colab": {
          "base_uri": "https://localhost:8080/"
        },
        "id": "mgiKDZH-BCVt",
        "outputId": "9ad12d29-c6e4-4680-bf63-16c3002b9ff8"
      },
      "outputs": [
        {
          "name": "stdout",
          "output_type": "stream",
          "text": [
            "The shape of matrix B is (4, 3)\n"
          ]
        }
      ],
      "source": [
        "print(f'The shape of matrix B is {B.shape}')"
      ]
    },
    {
      "cell_type": "code",
      "execution_count": 32,
      "metadata": {
        "colab": {
          "base_uri": "https://localhost:8080/"
        },
        "id": "_6u9dQXRBNFm",
        "outputId": "b55bd62a-7f2d-44ba-ce9d-fca7441448cc"
      },
      "outputs": [
        {
          "data": {
            "text/plain": [
              "array([[110,  61,  83,  80],\n",
              "       [218, 118, 164, 149],\n",
              "       [326, 175, 245, 218],\n",
              "       [434, 232, 326, 287]])"
            ]
          },
          "execution_count": 32,
          "metadata": {},
          "output_type": "execute_result"
        }
      ],
      "source": [
        "# Matrix Multiplication A x B\n",
        "A @ B.T"
      ]
    },
    {
      "cell_type": "code",
      "execution_count": 33,
      "metadata": {
        "colab": {
          "base_uri": "https://localhost:8080/"
        },
        "id": "CBxX2eBaBhtJ",
        "outputId": "bbe8678f-e396-447c-a536-a35a11c0adb5"
      },
      "outputs": [
        {
          "name": "stdout",
          "output_type": "stream",
          "text": [
            "(3, 4)\n"
          ]
        }
      ],
      "source": [
        "# shape of transpose of B\n",
        "print(B.T.shape)"
      ]
    },
    {
      "cell_type": "code",
      "execution_count": 34,
      "metadata": {
        "colab": {
          "base_uri": "https://localhost:8080/"
        },
        "id": "E_lzQED-CZvU",
        "outputId": "1d60d511-8c3f-4973-fd7a-cc46324a741a"
      },
      "outputs": [
        {
          "name": "stdout",
          "output_type": "stream",
          "text": [
            "[[20 18]\n",
            " [12 40]]\n"
          ]
        }
      ],
      "source": [
        "# Element-wise Multiplication A * B\n",
        "A = np.array([\n",
        "    [10, 6],\n",
        "    [12, 8]\n",
        "])\n",
        "\n",
        "B = np.array([\n",
        "    [2, 3],\n",
        "    [1, 5]\n",
        "])\n",
        "\n",
        "C = A * B\n",
        "print(C)"
      ]
    },
    {
      "cell_type": "code",
      "execution_count": 35,
      "metadata": {
        "colab": {
          "base_uri": "https://localhost:8080/"
        },
        "id": "RUmmGeykEAO4",
        "outputId": "97cd214b-3aac-47c8-f470-f3b51d559128"
      },
      "outputs": [
        {
          "name": "stdout",
          "output_type": "stream",
          "text": [
            "[[12  9]\n",
            " [13 13]]\n"
          ]
        }
      ],
      "source": [
        "# Sum A and B\n",
        "sum = A + B\n",
        "print(sum)"
      ]
    },
    {
      "cell_type": "code",
      "execution_count": 36,
      "metadata": {
        "colab": {
          "base_uri": "https://localhost:8080/"
        },
        "id": "uoOujiGDEvO6",
        "outputId": "ec0055bf-5f99-467f-eccd-bcd28ea5ea2d"
      },
      "outputs": [
        {
          "name": "stdout",
          "output_type": "stream",
          "text": [
            "[[ 8  3]\n",
            " [11  3]]\n"
          ]
        }
      ],
      "source": [
        "# Subtract B from A\n",
        "difference = A - B\n",
        "print(difference)"
      ]
    },
    {
      "cell_type": "markdown",
      "metadata": {
        "id": "1ufvwLMl6zTF"
      },
      "source": [
        "### Generate Random Matrix"
      ]
    },
    {
      "cell_type": "code",
      "execution_count": 37,
      "metadata": {
        "colab": {
          "base_uri": "https://localhost:8080/"
        },
        "id": "k_kHHl7eEzo0",
        "outputId": "0bdee7d6-b58a-45c0-b89d-e3247d64ce45"
      },
      "outputs": [
        {
          "name": "stdout",
          "output_type": "stream",
          "text": [
            "[[ -37.04078494   -7.27026587   76.11385394 ...   13.74267343\n",
            "  -201.54384489    3.33534445]\n",
            " [ 119.43032588   50.62397234  174.56430087 ...  120.64136988\n",
            "   -75.41484048  -34.36830537]\n",
            " [ -55.21208551  -41.92223953   57.93929565 ...  -65.06379216\n",
            "  -155.32149742  -32.09623608]\n",
            " ...\n",
            " [ -64.12814563  102.02961179  -24.16168462 ...   25.12830474\n",
            "    70.3356154   -92.77815193]\n",
            " [ 130.89810162 -102.01689955  146.49418868 ... -144.8189737\n",
            "   -16.74225689  159.85666413]\n",
            " [   1.01443357   99.19582393  178.8518268  ...  185.88270632\n",
            "   -94.11002495  -84.69140899]]\n"
          ]
        }
      ],
      "source": [
        "random_matrix = np.random.randn(100, 188) * 100\n",
        "print(random_matrix)"
      ]
    },
    {
      "cell_type": "code",
      "execution_count": 40,
      "metadata": {
        "colab": {
          "base_uri": "https://localhost:8080/"
        },
        "id": "-zAhIzfhFQ8z",
        "outputId": "a44b306a-93a8-4d1b-fd7e-2277dcbcf1c3"
      },
      "outputs": [
        {
          "name": "stdout",
          "output_type": "stream",
          "text": [
            "[[ -37.   -7.   76. ...   14. -202.    3.]\n",
            " [ 119.   51.  175. ...  121.  -75.  -34.]\n",
            " [ -55.  -42.   58. ...  -65. -155.  -32.]\n",
            " ...\n",
            " [ -64.  102.  -24. ...   25.   70.  -93.]\n",
            " [ 131. -102.  146. ... -145.  -17.  160.]\n",
            " [   1.   99.  179. ...  186.  -94.  -85.]]\n"
          ]
        }
      ],
      "source": [
        "# round numbers to zero decimal place \n",
        "random_matrix = np.round(random_matrix , 0)\n",
        "print(random_matrix )"
      ]
    },
    {
      "cell_type": "markdown",
      "metadata": {
        "id": "rUzEZmOQ66Zp"
      },
      "source": [
        "### Select two columns from the matrix"
      ]
    },
    {
      "cell_type": "code",
      "execution_count": 43,
      "metadata": {
        "id": "iHkLhEJPGno0"
      },
      "outputs": [],
      "source": [
        "column_120 = random_matrix[: , 119]\n",
        "column_166 = random_matrix[: , 165]"
      ]
    },
    {
      "cell_type": "code",
      "execution_count": 44,
      "metadata": {
        "colab": {
          "base_uri": "https://localhost:8080/"
        },
        "id": "Uyg8yle8G54l",
        "outputId": "6dc6be39-282e-44a4-9ae3-8d9deba27d0c"
      },
      "outputs": [
        {
          "name": "stdout",
          "output_type": "stream",
          "text": [
            "[-116.  -76.    7.   88.   72.  137.   51.  127.   59.   52.   25.  136.\n",
            "   53. -104. -257.   67.  -35.  129.   -7.   45. -124.  153.  183. -187.\n",
            "  -94.  -58.  139.  -87.   55.  -83. -117. -204.    5.  -42.  -15.  -69.\n",
            " -146.    2.  166.   60.  -27.  -51. -170. -117.  -22.  -34. -116. -147.\n",
            " -187. -235.   -4. -102.  -65.   72.   87. -122. -209.  116.  -66.  -74.\n",
            "  -15.  -55.   71.  219.   71. -100.  -91.  -66.   -1.   29.   91.   52.\n",
            "  -59.   14.   52.  111.   -9.  -32.  -47.   11. -173.   27.  -61.  201.\n",
            "   12.  -40.  -44.   17.  -47.  -91.   54.  -57. -122. -133.  -46. -115.\n",
            "  -26. -129.   41. -243.]\n"
          ]
        }
      ],
      "source": [
        "print(column_166)"
      ]
    },
    {
      "cell_type": "markdown",
      "metadata": {
        "id": "nhRllWmB6-be"
      },
      "source": [
        "# Matplotlib\n",
        "## Plot the two columns on x-y scatter plot"
      ]
    },
    {
      "cell_type": "code",
      "execution_count": 45,
      "metadata": {
        "id": "Y_386m_yGGf4"
      },
      "outputs": [],
      "source": [
        "import matplotlib.pyplot as plt"
      ]
    },
    {
      "cell_type": "markdown",
      "metadata": {
        "id": "x0ppGN6E7E-R"
      },
      "source": [
        "### Line Plot"
      ]
    },
    {
      "cell_type": "markdown",
      "metadata": {
        "id": "tRKVSpVe7HDn"
      },
      "source": [
        "### Scatter Plot"
      ]
    },
    {
      "cell_type": "code",
      "execution_count": 47,
      "metadata": {
        "colab": {
          "base_uri": "https://localhost:8080/",
          "height": 465
        },
        "id": "veQq-AaxHNer",
        "outputId": "80704e39-1583-4ddf-a981-f103c625cf37"
      },
      "outputs": [
        {
          "data": {
            "image/png": "[encoded data removed]",
            "text/plain": [
              "<Figure size 1000x500 with 1 Axes>"
            ]
          },
          "metadata": {},
          "output_type": "display_data"
        }
      ],
      "source": [
        "figure = plt.figure(figsize=(10, 5))\n",
        "plt.scatter(column_120, column_166, label='Points', color='green')\n",
        "plt.grid()\n",
        "plt.xlabel('Column 120')\n",
        "plt.ylabel('Column 166')\n",
        "plt.legend()\n",
        "plt.show()"
      ]
    },
    {
      "cell_type": "code",
      "execution_count": 49,
      "metadata": {
        "id": "UBPuzqMvHSr-"
      },
      "outputs": [
        {
          "data": {
            "image/png": "[encoded data removed]",
            "text/plain": [
              "<Figure size 640x480 with 1 Axes>"
            ]
          },
          "metadata": {},
          "output_type": "display_data"
        }
      ],
      "source": [
        "# draw histogram of one column with default bins = 10\n",
        "plt.hist(column_120)\n",
        "plt.show()"
      ]
    },
    {
      "cell_type": "code",
      "execution_count": 53,
      "metadata": {},
      "outputs": [
        {
          "data": {
            "image/png": "[encoded data removed]",
            "text/plain": [
              "<Figure size 640x480 with 1 Axes>"
            ]
          },
          "metadata": {},
          "output_type": "display_data"
        }
      ],
      "source": [
        "# draw histogram of one column with bins = 100\n",
        "plt.hist(column_120, bins=100)\n",
        "plt.show()"
      ]
    },
    {
      "cell_type": "code",
      "execution_count": null,
      "metadata": {},
      "outputs": [],
      "source": []
    }
  ],
  "metadata": {
    "colab": {
      "provenance": []
    },
    "kernelspec": {
      "display_name": "Python 3",
      "name": "python3"
    },
    "language_info": {
      "codemirror_mode": {
        "name": "ipython",
        "version": 3
      },
      "file_extension": ".py",
      "mimetype": "text/x-python",
      "name": "python",
      "nbconvert_exporter": "python",
      "pygments_lexer": "ipython3",
      "version": "3.8.10"
    }
  },
  "nbformat": 4,
  "nbformat_minor": 0
}
