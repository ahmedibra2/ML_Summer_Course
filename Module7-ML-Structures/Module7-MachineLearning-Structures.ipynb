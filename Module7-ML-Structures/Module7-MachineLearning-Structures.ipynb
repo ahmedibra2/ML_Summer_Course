{
  "cells": [
    {
      "cell_type": "code",
      "execution_count": 1,
      "metadata": {
        "id": "e8pVkQFBIAX_"
      },
      "outputs": [],
      "source": [
        "import numpy as np\n",
        "import matplotlib.pyplot as plt\n",
        "from sklearn.preprocessing import MinMaxScaler, StandardScaler"
      ]
    },
    {
      "cell_type": "code",
      "execution_count": 2,
      "metadata": {
        "colab": {
          "base_uri": "https://localhost:8080/",
          "height": 0
        },
        "id": "kcwiaMGKJS9E",
        "outputId": "2e200d54-c230-48dc-dae6-0f9884302174"
      },
      "outputs": [
        {
          "name": "stdout",
          "output_type": "stream",
          "text": [
            "(10, 10)\n"
          ]
        }
      ],
      "source": [
        "# Define the stiffness matrix\n",
        "K = 10000* np.array([\n",
        "                      [46.0, -22.0, 0, 0, 0, 0, 0, 0, 0, 0],\n",
        "                      [-22.0, 44.0, -22.0, 0, 0, 0, 0, 0, 0, 0],\n",
        "                      [0, -22.0, 44.0, -22.0, 0, 0, 0, 0, 0, 0],\n",
        "                      [0, 0, -22.0, 42.0, -20.0, 0, 0, 0, 0, 0],\n",
        "                      [0, 0, 0, -20.0, 40.0, -20.0, 0, 0, 0, 0],\n",
        "                      [0, 0, 0, 0, -20.0, 40.0, -20.0, 0, 0, 0],\n",
        "                      [0, 0, 0, 0, 0, -20.0, 38.0, -18.0, 0, 0],\n",
        "                      [0, 0, 0, 0, 0, 0, -18.0, 36.0, -18.0, 0],\n",
        "                      [0, 0, 0, 0, 0, 0, 0, -18.0, 36.0, -18.0],\n",
        "                      [0, 0, 0, 0, 0, 0, 0, 0, -18.0, 18.0]\n",
        "                  ])\n",
        "\n",
        "print(K.shape)"
      ]
    },
    {
      "cell_type": "code",
      "execution_count": 3,
      "metadata": {
        "id": "e3LfoBe4K9UL"
      },
      "outputs": [],
      "source": [
        "K_inv = np.linalg.inv(K) # compute inverse of matrix"
      ]
    },
    {
      "cell_type": "code",
      "execution_count": 6,
      "metadata": {
        "colab": {
          "base_uri": "https://localhost:8080/",
          "height": 0
        },
        "id": "EwM1IBiKMU2h",
        "outputId": "cf1efcfd-ff40-48a3-b106-9555c41a4275"
      },
      "outputs": [
        {
          "name": "stdout",
          "output_type": "stream",
          "text": [
            "(100, 10)\n"
          ]
        }
      ],
      "source": [
        "# generate training data of load vectors\n",
        "p = np.random.uniform(low=0, high=1000, size=(100, 10))\n",
        "print(p.shape)"
      ]
    },
    {
      "cell_type": "code",
      "execution_count": 7,
      "metadata": {},
      "outputs": [
        {
          "name": "stdout",
          "output_type": "stream",
          "text": [
            "999.6350693546135\n",
            "0.3967981817050159\n"
          ]
        }
      ],
      "source": [
        "print(p.max())\n",
        "print(p.min())"
      ]
    },
    {
      "cell_type": "code",
      "execution_count": 8,
      "metadata": {
        "colab": {
          "base_uri": "https://localhost:8080/",
          "height": 0
        },
        "id": "8VJMpUbwMwK9",
        "outputId": "6eff3e16-473c-441a-dde0-490bb0f51c18"
      },
      "outputs": [
        {
          "name": "stdout",
          "output_type": "stream",
          "text": [
            "(10, 100)\n"
          ]
        }
      ],
      "source": [
        "# compute target data of displacements\n",
        "u = K_inv @ p.T\n",
        "print(u.shape)"
      ]
    },
    {
      "cell_type": "code",
      "execution_count": 9,
      "metadata": {
        "colab": {
          "base_uri": "https://localhost:8080/",
          "height": 0
        },
        "id": "Q79tITDUOnHZ",
        "outputId": "d22971cb-db2b-499e-c617-becf60f330c1"
      },
      "outputs": [
        {
          "name": "stdout",
          "output_type": "stream",
          "text": [
            "(100, 10)\n"
          ]
        }
      ],
      "source": [
        "# adjust shape of displacement matrix\n",
        "u = u.T\n",
        "print(u.shape)"
      ]
    },
    {
      "cell_type": "markdown",
      "metadata": {
        "id": "Gi9aUfT5JOFP"
      },
      "source": [
        "# Scaling p Vectors"
      ]
    },
    {
      "cell_type": "code",
      "execution_count": 10,
      "metadata": {
        "id": "eW0ftR2_JRNP"
      },
      "outputs": [],
      "source": [
        "scaler = StandardScaler()\n",
        "p = scaler.fit_transform(p)"
      ]
    },
    {
      "cell_type": "markdown",
      "metadata": {
        "id": "Vqk5Gc1_PVG-"
      },
      "source": [
        "# Machine Learning: Fully Connected Neural Network"
      ]
    },
    {
      "cell_type": "code",
      "execution_count": 11,
      "metadata": {
        "id": "7cwK9dyoPEnz"
      },
      "outputs": [],
      "source": [
        "import torch\n",
        "import torch.nn as nn\n",
        "import torch.optim as optim\n",
        "\n",
        "class SimpleNN(nn.Module):\n",
        "    def __init__(self, input_size, hidden_size_1, hidden_size_2, output_size):\n",
        "        super(SimpleNN, self).__init__()\n",
        "\n",
        "        self.fc1 = nn.Linear(input_size, hidden_size_1)\n",
        "        self.fc2 = nn.Linear(hidden_size_1, hidden_size_2)\n",
        "        self.fc3 = nn.Linear(hidden_size_2, hidden_size_1)\n",
        "        self.fc4 = nn.Linear(hidden_size_1, output_size)\n",
        "        self.selu = nn.SELU()\n",
        "        self.dropout = nn.Dropout(p=0.2)\n",
        "\n",
        "    def forward(self, x):\n",
        "        x = self.fc1(x)\n",
        "        x = self.selu(x)\n",
        "        x = self.dropout(x)\n",
        "        x = self.fc2(x)\n",
        "        x = self.selu(x)\n",
        "        x = self.dropout(x)\n",
        "        x = self.fc3(x)\n",
        "        x = self.selu(x)\n",
        "        x = self.dropout(x)\n",
        "        x = self.fc4(x)\n",
        "        return x"
      ]
    },
    {
      "cell_type": "code",
      "execution_count": 12,
      "metadata": {
        "colab": {
          "base_uri": "https://localhost:8080/",
          "height": 0
        },
        "id": "Q6EhdydUQybs",
        "outputId": "5d921308-4747-4d4c-d182-7ee52990e525"
      },
      "outputs": [
        {
          "name": "stdout",
          "output_type": "stream",
          "text": [
            "SimpleNN(\n",
            "  (fc1): Linear(in_features=10, out_features=100, bias=True)\n",
            "  (fc2): Linear(in_features=100, out_features=200, bias=True)\n",
            "  (fc3): Linear(in_features=200, out_features=100, bias=True)\n",
            "  (fc4): Linear(in_features=100, out_features=10, bias=True)\n",
            "  (selu): SELU()\n",
            "  (dropout): Dropout(p=0.2, inplace=False)\n",
            ")\n"
          ]
        }
      ],
      "source": [
        "# Parameters\n",
        "input_size = 10  # Number of input features\n",
        "hidden_size_1 = 100  # Number of neurons in the hidden layer\n",
        "hidden_size_2 = 200  # Number of neurons in the hidden layer\n",
        "output_size = 10  # Output size (e.g., regression output)\n",
        "\n",
        "# Create the neural network\n",
        "model = SimpleNN(input_size, hidden_size_1,  hidden_size_2, output_size)\n",
        "\n",
        "# Print the model architecture\n",
        "print(model)"
      ]
    },
    {
      "cell_type": "markdown",
      "metadata": {
        "id": "1xDoqqWhR-Bw"
      },
      "source": [
        "# Training"
      ]
    },
    {
      "cell_type": "code",
      "execution_count": 13,
      "metadata": {
        "id": "XU7nfYh1SVa_"
      },
      "outputs": [],
      "source": [
        "# Convert numpy arrays to PyTorch tensors\n",
        "u_tensor = torch.tensor(u, dtype=torch.float32)\n",
        "p_tensor = torch.tensor(p, dtype=torch.float32)"
      ]
    },
    {
      "cell_type": "code",
      "execution_count": 14,
      "metadata": {
        "colab": {
          "base_uri": "https://localhost:8080/",
          "height": 0
        },
        "id": "opX4YTKVRFZQ",
        "outputId": "fe66ce9b-9704-407d-ef3b-3679efd7feb6"
      },
      "outputs": [
        {
          "name": "stdout",
          "output_type": "stream",
          "text": [
            "Epoch [100/1000], Loss: 0.0205\n",
            "Epoch [200/1000], Loss: 0.0121\n",
            "Epoch [300/1000], Loss: 0.0076\n",
            "Epoch [400/1000], Loss: 0.0059\n",
            "Epoch [500/1000], Loss: 0.0045\n",
            "Epoch [600/1000], Loss: 0.0036\n",
            "Epoch [700/1000], Loss: 0.0033\n",
            "Epoch [800/1000], Loss: 0.0023\n",
            "Epoch [900/1000], Loss: 0.0023\n",
            "Epoch [1000/1000], Loss: 0.0018\n"
          ]
        }
      ],
      "source": [
        "# Loss and optimizer\n",
        "criterion = nn.MSELoss()\n",
        "optimizer = optim.Adam(model.parameters(), lr=0.0001)\n",
        "\n",
        "# Training loop\n",
        "num_epochs = 1000\n",
        "error = []\n",
        "\n",
        "for epoch in range(num_epochs):\n",
        "    # Forward pass\n",
        "    outputs = model(p_tensor)\n",
        "    loss = criterion(outputs, u_tensor)\n",
        "\n",
        "    # Backward pass and optimization\n",
        "    optimizer.zero_grad()\n",
        "    loss.backward()\n",
        "    optimizer.step()\n",
        "    error.append(loss.item())\n",
        "\n",
        "    if (epoch+1) % 100 == 0:\n",
        "        print(f'Epoch [{epoch+1}/{num_epochs}], Loss: {loss.item():.4f}')"
      ]
    },
    {
      "cell_type": "code",
      "execution_count": 19,
      "metadata": {},
      "outputs": [
        {
          "data": {
            "text/plain": [
              "Text(0, 0.5, 'Loss')"
            ]
          },
          "execution_count": 19,
          "metadata": {},
          "output_type": "execute_result"
        },
        {
          "data": {
            "image/png": "[encoded data removed]",
            "text/plain": [
              "<Figure size 640x480 with 1 Axes>"
            ]
          },
          "metadata": {},
          "output_type": "display_data"
        }
      ],
      "source": [
        "plt.plot(error)\n",
        "plt.title('Learning Curve of Neural Network')\n",
        "plt.xlabel('Epochs')\n",
        "plt.ylabel('Loss')"
      ]
    },
    {
      "cell_type": "markdown",
      "metadata": {
        "id": "oPnyCsRwT7Ev"
      },
      "source": [
        "# Prediction on Test Cases"
      ]
    },
    {
      "cell_type": "code",
      "execution_count": 15,
      "metadata": {
        "colab": {
          "base_uri": "https://localhost:8080/",
          "height": 0
        },
        "id": "mt35-XEBSqhX",
        "outputId": "eb67ef33-120a-48a8-dadc-8de024f9db50"
      },
      "outputs": [
        {
          "data": {
            "text/plain": [
              "(5, 10)"
            ]
          },
          "execution_count": 15,
          "metadata": {},
          "output_type": "execute_result"
        }
      ],
      "source": [
        "# Test cases of load vectors \n",
        "p_test = np.array([[10, 100, 200, 300, 400, 500, 600, 700, 800, 900],\n",
        "                   [500, 500, 500, 500, 500, 500, 500, 500, 500, 500,],\n",
        "                   [200, 400, 600, 800, 900, 900, 800, 600, 400, 200],\n",
        "                   [-100, -100, -100, -100, -100, -100, -100, -100, -100, -100,],\n",
        "                   [1000, 1000, 1000, 1000, 1000, 1000, 1000, 1000, 1000, 1000]\n",
        "                   ])\n",
        "p_test.shape"
      ]
    },
    {
      "cell_type": "code",
      "execution_count": 16,
      "metadata": {
        "colab": {
          "base_uri": "https://localhost:8080/",
          "height": 0
        },
        "id": "KqTkY43MFsBq",
        "outputId": "c9eafbf0-3a14-466c-bca9-ebd7ebeb6ef5"
      },
      "outputs": [
        {
          "name": "stdout",
          "output_type": "stream",
          "text": [
            "(5, 10)\n"
          ]
        }
      ],
      "source": [
        "# compute test cases of displacement vectors\n",
        "u_test = K_inv @ p_test.T\n",
        "u_test = u_test.T\n",
        "print(u_test.shape)"
      ]
    },
    {
      "cell_type": "code",
      "execution_count": 17,
      "metadata": {
        "id": "nTIcnPXSTRZ2"
      },
      "outputs": [],
      "source": [
        "# scale test cases of load vectors\n",
        "p_test = scaler.transform(p_test)\n",
        "p_test_tensor = torch.tensor(p_test, dtype=torch.float32)"
      ]
    },
    {
      "cell_type": "code",
      "execution_count": 20,
      "metadata": {
        "colab": {
          "base_uri": "https://localhost:8080/",
          "height": 0
        },
        "id": "M-8lnL2_TcBk",
        "outputId": "800d8d95-7c34-4042-80ab-d7ca33543a29"
      },
      "outputs": [],
      "source": [
        "# Switch to evaluation mode\n",
        "model.eval()\n",
        "\n",
        "# Make predictions (no gradient computation needed)\n",
        "with torch.no_grad():\n",
        "    u_pred = model(p_test_tensor)\n",
        "\n",
        "# Convert predictions to NumPy array if needed\n",
        "u_pred = u_pred.numpy()"
      ]
    },
    {
      "cell_type": "code",
      "execution_count": 63,
      "metadata": {},
      "outputs": [
        {
          "data": {
            "text/plain": [
              "Text(0.5, 0.98, 'Comparing Test Cases of Floor Displacements')"
            ]
          },
          "execution_count": 63,
          "metadata": {},
          "output_type": "execute_result"
        },
        {
          "data": {
            "image/png": "[encoded data removed]",
            "text/plain": [
              "<Figure size 1000x500 with 5 Axes>"
            ]
          },
          "metadata": {},
          "output_type": "display_data"
        }
      ],
      "source": [
        "floors = np.arange(1, 11)\n",
        "fig, axes = plt.subplots(nrows=2, ncols=3, figsize=(10,5), constrained_layout=True)\n",
        "# fig.tight_layout()\n",
        "\n",
        "axes[0,0].plot(u_pred[0,:], floors, 'bx-', label='Prediction')\n",
        "axes[0,0].plot(u_test[0,:], floors, 'rs-', label='Target')\n",
        "axes[0,0].set_title('Case 1')\n",
        "axes[0,0].set_ylabel('Floor #')\n",
        "axes[0,0].set_xlabel('Displacement (m)')\n",
        "axes[0,0].legend()\n",
        "\n",
        "axes[0,1].plot(u_pred[1,:], floors, 'bx-', label='Prediction')\n",
        "axes[0,1].plot(u_test[1,:], floors, 'rs-', label='Target')\n",
        "axes[0,1].set_title('Case 2')\n",
        "axes[0,1].set_ylabel('Floor #')\n",
        "axes[0,1].set_xlabel('Displacement (m)')\n",
        "axes[0,1].legend()\n",
        "\n",
        "axes[0,2].plot(u_pred[2,:], floors, 'bx-', label='Prediction')\n",
        "axes[0,2].plot(u_test[2,:], floors, 'rs-', label='Target')\n",
        "axes[0,2].set_title('Case 3')\n",
        "axes[0,2].set_ylabel('Floor #')\n",
        "axes[0,2].set_xlabel('Displacement (m)')\n",
        "axes[0,2].legend()\n",
        "\n",
        "axes[1,0].plot(u_pred[3,:], floors, 'bx-', label='Prediction')\n",
        "axes[1,0].plot(u_test[3,:], floors, 'rs-', label='Target')\n",
        "axes[1,0].set_title('Case 4')\n",
        "axes[1,0].set_ylabel('Floor #')\n",
        "axes[1,0].set_xlabel('Displacement (m)')\n",
        "axes[1,0].legend()\n",
        "\n",
        "axes[1,1].plot(u_pred[4,:], floors, 'bx-', label='Prediction')\n",
        "axes[1,1].plot(u_test[4,:], floors, 'rs-', label='Target')\n",
        "axes[1,1].set_title('Case 5')\n",
        "axes[1,1].set_ylabel('Floor #')\n",
        "axes[1,1].set_xlabel('Displacement (m)')\n",
        "axes[1,1].legend()\n",
        "\n",
        "fig.delaxes(axes[1][2])\n",
        "\n",
        "fig.suptitle('Comparing Test Cases of Floor Displacements')"
      ]
    },
    {
      "cell_type": "code",
      "execution_count": 54,
      "metadata": {},
      "outputs": [],
      "source": [
        "import pandas as pd\n",
        "df_test = pd.DataFrame(u_test)\n",
        "df_pred = pd.DataFrame(u_pred)"
      ]
    },
    {
      "cell_type": "code",
      "execution_count": 55,
      "metadata": {},
      "outputs": [
        {
          "name": "stdout",
          "output_type": "stream",
          "text": [
            "True Displacements\n"
          ]
        },
        {
          "data": {
            "text/html": [
              "<div>\n",
              "<style scoped>\n",
              "    .dataframe tbody tr th:only-of-type {\n",
              "        vertical-align: middle;\n",
              "    }\n",
              "\n",
              "    .dataframe tbody tr th {\n",
              "        vertical-align: top;\n",
              "    }\n",
              "\n",
              "    .dataframe thead th {\n",
              "        text-align: right;\n",
              "    }\n",
              "</style>\n",
              "<table border=\"1\" class=\"dataframe\">\n",
              "  <thead>\n",
              "    <tr style=\"text-align: right;\">\n",
              "      <th></th>\n",
              "      <th>0</th>\n",
              "      <th>1</th>\n",
              "      <th>2</th>\n",
              "      <th>3</th>\n",
              "      <th>4</th>\n",
              "      <th>5</th>\n",
              "      <th>6</th>\n",
              "      <th>7</th>\n",
              "      <th>8</th>\n",
              "      <th>9</th>\n",
              "    </tr>\n",
              "  </thead>\n",
              "  <tbody>\n",
              "    <tr>\n",
              "      <th>0</th>\n",
              "      <td>0.018792</td>\n",
              "      <td>0.039246</td>\n",
              "      <td>0.059246</td>\n",
              "      <td>0.078337</td>\n",
              "      <td>0.097837</td>\n",
              "      <td>0.115337</td>\n",
              "      <td>0.130337</td>\n",
              "      <td>0.143670</td>\n",
              "      <td>0.153115</td>\n",
              "      <td>0.158115</td>\n",
              "    </tr>\n",
              "    <tr>\n",
              "      <th>1</th>\n",
              "      <td>0.020833</td>\n",
              "      <td>0.041288</td>\n",
              "      <td>0.059470</td>\n",
              "      <td>0.075379</td>\n",
              "      <td>0.090379</td>\n",
              "      <td>0.102879</td>\n",
              "      <td>0.112879</td>\n",
              "      <td>0.121212</td>\n",
              "      <td>0.126768</td>\n",
              "      <td>0.129545</td>\n",
              "    </tr>\n",
              "    <tr>\n",
              "      <th>2</th>\n",
              "      <td>0.024167</td>\n",
              "      <td>0.049621</td>\n",
              "      <td>0.073258</td>\n",
              "      <td>0.094167</td>\n",
              "      <td>0.113167</td>\n",
              "      <td>0.127667</td>\n",
              "      <td>0.137667</td>\n",
              "      <td>0.144333</td>\n",
              "      <td>0.147667</td>\n",
              "      <td>0.148778</td>\n",
              "    </tr>\n",
              "    <tr>\n",
              "      <th>3</th>\n",
              "      <td>-0.004167</td>\n",
              "      <td>-0.008258</td>\n",
              "      <td>-0.011894</td>\n",
              "      <td>-0.015076</td>\n",
              "      <td>-0.018076</td>\n",
              "      <td>-0.020576</td>\n",
              "      <td>-0.022576</td>\n",
              "      <td>-0.024242</td>\n",
              "      <td>-0.025354</td>\n",
              "      <td>-0.025909</td>\n",
              "    </tr>\n",
              "    <tr>\n",
              "      <th>4</th>\n",
              "      <td>0.041667</td>\n",
              "      <td>0.082576</td>\n",
              "      <td>0.118939</td>\n",
              "      <td>0.150758</td>\n",
              "      <td>0.180758</td>\n",
              "      <td>0.205758</td>\n",
              "      <td>0.225758</td>\n",
              "      <td>0.242424</td>\n",
              "      <td>0.253535</td>\n",
              "      <td>0.259091</td>\n",
              "    </tr>\n",
              "  </tbody>\n",
              "</table>\n",
              "</div>"
            ],
            "text/plain": [
              "          0         1         2         3         4         5         6  \\\n",
              "0  0.018792  0.039246  0.059246  0.078337  0.097837  0.115337  0.130337   \n",
              "1  0.020833  0.041288  0.059470  0.075379  0.090379  0.102879  0.112879   \n",
              "2  0.024167  0.049621  0.073258  0.094167  0.113167  0.127667  0.137667   \n",
              "3 -0.004167 -0.008258 -0.011894 -0.015076 -0.018076 -0.020576 -0.022576   \n",
              "4  0.041667  0.082576  0.118939  0.150758  0.180758  0.205758  0.225758   \n",
              "\n",
              "          7         8         9  \n",
              "0  0.143670  0.153115  0.158115  \n",
              "1  0.121212  0.126768  0.129545  \n",
              "2  0.144333  0.147667  0.148778  \n",
              "3 -0.024242 -0.025354 -0.025909  \n",
              "4  0.242424  0.253535  0.259091  "
            ]
          },
          "metadata": {},
          "output_type": "display_data"
        }
      ],
      "source": [
        "print('True Displacements')\n",
        "display(df_test)"
      ]
    },
    {
      "cell_type": "code",
      "execution_count": 56,
      "metadata": {},
      "outputs": [
        {
          "name": "stdout",
          "output_type": "stream",
          "text": [
            "Predicted Displacements\n"
          ]
        },
        {
          "data": {
            "text/html": [
              "<div>\n",
              "<style scoped>\n",
              "    .dataframe tbody tr th:only-of-type {\n",
              "        vertical-align: middle;\n",
              "    }\n",
              "\n",
              "    .dataframe tbody tr th {\n",
              "        vertical-align: top;\n",
              "    }\n",
              "\n",
              "    .dataframe thead th {\n",
              "        text-align: right;\n",
              "    }\n",
              "</style>\n",
              "<table border=\"1\" class=\"dataframe\">\n",
              "  <thead>\n",
              "    <tr style=\"text-align: right;\">\n",
              "      <th></th>\n",
              "      <th>0</th>\n",
              "      <th>1</th>\n",
              "      <th>2</th>\n",
              "      <th>3</th>\n",
              "      <th>4</th>\n",
              "      <th>5</th>\n",
              "      <th>6</th>\n",
              "      <th>7</th>\n",
              "      <th>8</th>\n",
              "      <th>9</th>\n",
              "    </tr>\n",
              "  </thead>\n",
              "  <tbody>\n",
              "    <tr>\n",
              "      <th>0</th>\n",
              "      <td>-0.006316</td>\n",
              "      <td>0.036937</td>\n",
              "      <td>0.050130</td>\n",
              "      <td>0.088732</td>\n",
              "      <td>0.093672</td>\n",
              "      <td>0.113871</td>\n",
              "      <td>0.118472</td>\n",
              "      <td>0.147897</td>\n",
              "      <td>0.150355</td>\n",
              "      <td>0.158555</td>\n",
              "    </tr>\n",
              "    <tr>\n",
              "      <th>1</th>\n",
              "      <td>0.003613</td>\n",
              "      <td>0.044839</td>\n",
              "      <td>0.047232</td>\n",
              "      <td>0.084577</td>\n",
              "      <td>0.083576</td>\n",
              "      <td>0.105838</td>\n",
              "      <td>0.098507</td>\n",
              "      <td>0.125470</td>\n",
              "      <td>0.122787</td>\n",
              "      <td>0.120923</td>\n",
              "    </tr>\n",
              "    <tr>\n",
              "      <th>2</th>\n",
              "      <td>0.004050</td>\n",
              "      <td>0.047275</td>\n",
              "      <td>0.056887</td>\n",
              "      <td>0.110078</td>\n",
              "      <td>0.107188</td>\n",
              "      <td>0.131297</td>\n",
              "      <td>0.129741</td>\n",
              "      <td>0.146672</td>\n",
              "      <td>0.145319</td>\n",
              "      <td>0.147074</td>\n",
              "    </tr>\n",
              "    <tr>\n",
              "      <th>3</th>\n",
              "      <td>-0.021875</td>\n",
              "      <td>-0.005060</td>\n",
              "      <td>-0.009496</td>\n",
              "      <td>-0.001138</td>\n",
              "      <td>-0.010759</td>\n",
              "      <td>-0.011386</td>\n",
              "      <td>0.001764</td>\n",
              "      <td>0.020030</td>\n",
              "      <td>-0.003935</td>\n",
              "      <td>0.002328</td>\n",
              "    </tr>\n",
              "    <tr>\n",
              "      <th>4</th>\n",
              "      <td>0.013754</td>\n",
              "      <td>0.071301</td>\n",
              "      <td>0.087590</td>\n",
              "      <td>0.139914</td>\n",
              "      <td>0.153514</td>\n",
              "      <td>0.164938</td>\n",
              "      <td>0.196686</td>\n",
              "      <td>0.212000</td>\n",
              "      <td>0.219324</td>\n",
              "      <td>0.208121</td>\n",
              "    </tr>\n",
              "  </tbody>\n",
              "</table>\n",
              "</div>"
            ],
            "text/plain": [
              "          0         1         2         3         4         5         6  \\\n",
              "0 -0.006316  0.036937  0.050130  0.088732  0.093672  0.113871  0.118472   \n",
              "1  0.003613  0.044839  0.047232  0.084577  0.083576  0.105838  0.098507   \n",
              "2  0.004050  0.047275  0.056887  0.110078  0.107188  0.131297  0.129741   \n",
              "3 -0.021875 -0.005060 -0.009496 -0.001138 -0.010759 -0.011386  0.001764   \n",
              "4  0.013754  0.071301  0.087590  0.139914  0.153514  0.164938  0.196686   \n",
              "\n",
              "          7         8         9  \n",
              "0  0.147897  0.150355  0.158555  \n",
              "1  0.125470  0.122787  0.120923  \n",
              "2  0.146672  0.145319  0.147074  \n",
              "3  0.020030 -0.003935  0.002328  \n",
              "4  0.212000  0.219324  0.208121  "
            ]
          },
          "metadata": {},
          "output_type": "display_data"
        }
      ],
      "source": [
        "print('Predicted Displacements')\n",
        "display(df_pred)"
      ]
    }
  ],
  "metadata": {
    "colab": {
      "provenance": []
    },
    "kernelspec": {
      "display_name": "Python 3",
      "name": "python3"
    },
    "language_info": {
      "codemirror_mode": {
        "name": "ipython",
        "version": 3
      },
      "file_extension": ".py",
      "mimetype": "text/x-python",
      "name": "python",
      "nbconvert_exporter": "python",
      "pygments_lexer": "ipython3",
      "version": "3.8.10"
    }
  },
  "nbformat": 4,
  "nbformat_minor": 0
}
